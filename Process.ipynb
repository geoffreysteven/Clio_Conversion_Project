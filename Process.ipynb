{
 "cells": [
  {
   "cell_type": "markdown",
   "metadata": {},
   "source": [
    "## CLIO Project\n",
    "Candidate: Geoffrey Shmigelsky\n",
    "\n",
    "Tuesday, Oct 29, 2019\n",
    "\n"
   ]
  },
  {
   "cell_type": "code",
   "execution_count": 1,
   "metadata": {},
   "outputs": [],
   "source": [
    "import pandas as pd"
   ]
  },
  {
   "cell_type": "code",
   "execution_count": 13,
   "metadata": {},
   "outputs": [],
   "source": [
    "# set to False to process Test datafile instead\n",
    "TRAIN = True \n",
    "# TRAIN = False\n",
    "\n",
    "# training dataset is inbalanced 7:1 (NO:YES) for Conversion classification\n",
    "REPLICATE = 0 # number of times to duplicate training Yes data, max is 7\n",
    "\n",
    "# Output:\n",
    "# Will create one of two files, with engineered features for time \n",
    "#   - Invalid entries removed\n",
    "#   - Pre conversions removed, only in Training set\n",
    "# File #1: train_clean.tab (TRAIN = True)\n",
    "# File #2: test_clean.tab (TRAIN = False)\n"
   ]
  },
  {
   "cell_type": "markdown",
   "metadata": {},
   "source": [
    "### Read in the CSV file\n",
    "Train has a Y label, Test does not.\n",
    "The column idx will serve as an index, but carries no meaning."
   ]
  },
  {
   "cell_type": "code",
   "execution_count": 19,
   "metadata": {},
   "outputs": [
    {
     "name": "stdout",
     "output_type": "stream",
     "text": [
      "<class 'pandas.core.frame.DataFrame'>\n",
      "Int64Index: 1000 entries, 745 to 270\n",
      "Data columns (total 10 columns):\n",
      "time_to_first_matter           1000 non-null float64\n",
      "time_to_first_time_entry       1000 non-null float64\n",
      "time_to_first_bill             1000 non-null float64\n",
      "time_to_second_user            1000 non-null float64\n",
      "page_views_in_first_hour       1000 non-null float64\n",
      "page_views_in_first_day        1000 non-null float64\n",
      "page_views_in_first_7_days     1000 non-null float64\n",
      "page_views_in_first_14_days    1000 non-null float64\n",
      "time_to_conversion             1000 non-null float64\n",
      "conversion_value               1000 non-null float64\n",
      "dtypes: float64(10)\n",
      "memory usage: 85.9 KB\n"
     ]
    }
   ],
   "source": [
    "if TRAIN:\n",
    "    df = pd.read_csv(\"train.csv\", index_col='idx')\n",
    "else:\n",
    "    df = pd.read_csv(\"test.csv\", index_col='idx')\n",
    "    \n",
    "#TODO: Process missing values here, let Orange for it for now   \n",
    "    \n",
    "df.info()"
   ]
  },
  {
   "cell_type": "markdown",
   "metadata": {},
   "source": [
    "### Remove Invalid Cases\n",
    "\n",
    "Remove rows where there are no page views, these would indicate bad data."
   ]
  },
  {
   "cell_type": "code",
   "execution_count": 20,
   "metadata": {},
   "outputs": [
    {
     "name": "stdout",
     "output_type": "stream",
     "text": [
      "Rows including bad data: 1000\n",
      "Rows with bad data     : 0\n",
      "Cleaned rows remaining : 1000\n"
     ]
    }
   ],
   "source": [
    "print(f\"Rows including bad data: {len(df)}\")\n",
    "df_bad = df.isna()['page_views_in_first_hour']\n",
    "print(f\"Rows with bad data     : {df_bad.sum()}\")\n",
    "df = df[~df_bad]\n",
    "print(f\"Cleaned rows remaining : {len(df)}\")"
   ]
  },
  {
   "cell_type": "markdown",
   "metadata": {},
   "source": [
    "### Conversion Cleanup and Engineering \n",
    "\n",
    "If a prospect's time_to_conversion occurs before a the first matter, then the prospect has already converted \n",
    "\n",
    "The time_to_first_matter and time_to_conversion are reducable to a single True/False representing a successful conversion. \n",
    "\n"
   ]
  },
  {
   "cell_type": "code",
   "execution_count": 16,
   "metadata": {},
   "outputs": [
    {
     "name": "stdout",
     "output_type": "stream",
     "text": [
      "Total number of rows          : 1000\n",
      "Total Conversions             : 171\n",
      "Number of PreConversions      : 351\n",
      "Number of True Conversions    : -180\n",
      "Rows left minus PreConversions: 649\n"
     ]
    }
   ],
   "source": [
    "if TRAIN:\n",
    "    print(f\"Total number of rows          : {len(df)}\")\n",
    "\n",
    "    df['Conversion'] = df['time_to_conversion'] > 0\n",
    "    # df['Conversion'] = df['Conversion'].astype(int)\n",
    "    df['PreConversion'] = df['time_to_first_matter'] > df['time_to_conversion']\n",
    "    print(f\"Total Conversions             : {df['Conversion'].sum()}\")\n",
    "    print(f\"Number of PreConversions      : {df['PreConversion'].sum()}\")\n",
    "    print(f\"Number of True Conversions    : {df['Conversion'].sum()- df['PreConversion'].sum()}\")\n",
    "\n",
    "    df = df[~df['PreConversion']]\n",
    "\n",
    "    print(f\"Rows left minus PreConversions: {len(df)}\")      "
   ]
  },
  {
   "cell_type": "markdown",
   "metadata": {},
   "source": [
    "### Time Normalization\n",
    "First, average page views by the hour.\n",
    "Second, compute the average change by time frame."
   ]
  },
  {
   "cell_type": "code",
   "execution_count": 6,
   "metadata": {},
   "outputs": [],
   "source": [
    "df['page_views_in_first_day_norm'] = df.page_views_in_first_day / 7.0\n",
    "df['page_views_in_first_7_days_norm'] = df.page_views_in_first_7_days / (7.0*24.0)\n",
    "df['page_views_in_first_14_days_norm'] = df.page_views_in_first_7_days / (14.0*24.0)\n",
    "\n",
    "df['time_delta_day'] = df.page_views_in_first_hour - df.page_views_in_first_day_norm\n",
    "df['time_delta_week'] = df.page_views_in_first_day_norm - df.page_views_in_first_7_days_norm\n",
    "df['time_delta_2weeks'] = df.page_views_in_first_7_days_norm - df.page_views_in_first_14_days_norm\n"
   ]
  },
  {
   "cell_type": "markdown",
   "metadata": {},
   "source": [
    "### Match up Yes and No Counts\n",
    "\n",
    "There is an imbalance of No Conversions to Yes Conversions of 7 to 1.\n",
    "\n",
    "A quick workaround is to duplicate the Yes data seven times. This will allow for a more intuitive understanding of the Confusion Matrix.\n",
    "\n",
    "Finalize Y label as \"Yes\" and \"No\" for ease of reading in Orange."
   ]
  },
  {
   "cell_type": "code",
   "execution_count": 7,
   "metadata": {},
   "outputs": [
    {
     "name": "stdout",
     "output_type": "stream",
     "text": [
      "914\n",
      "No Length = 801\n",
      "Yes Length = 113\n"
     ]
    }
   ],
   "source": [
    "if TRAIN:\n",
    "    df['Conversion'] = df['Conversion'].replace({True: 'Yes', False: 'No'})\n",
    "\n",
    "    yes = df[df['Conversion'] == 'Yes']\n",
    "    no = df[df['Conversion'] == 'No']\n",
    "    # replicate YES data to match claissification counts, if wanted\n",
    "    for _ in range(REPLICATE):\n",
    "        df = df.append(yes)\n",
    "\n",
    "    print(len(df))\n",
    "    print(f\"No Length = {len( df[df['Conversion'] == 'No'] )}\")\n",
    "    print(f\"Yes Length = {len(df[df['Conversion'] == 'Yes'] )}\")\n",
    "          \n",
    "    df['Conversion'] = df.pop('Conversion')  # make last columns"
   ]
  },
  {
   "cell_type": "code",
   "execution_count": 8,
   "metadata": {},
   "outputs": [],
   "source": [
    "if TRAIN:\n",
    "    yes.describe().T"
   ]
  },
  {
   "cell_type": "code",
   "execution_count": 9,
   "metadata": {},
   "outputs": [],
   "source": [
    "if TRAIN: \n",
    "    no.describe().T"
   ]
  },
  {
   "cell_type": "code",
   "execution_count": 10,
   "metadata": {},
   "outputs": [
    {
     "name": "stdout",
     "output_type": "stream",
     "text": [
      "Index(['time_to_first_matter', 'time_to_first_time_entry',\n",
      "       'time_to_first_bill', 'time_to_second_user', 'page_views_in_first_hour',\n",
      "       'page_views_in_first_day', 'page_views_in_first_7_days',\n",
      "       'page_views_in_first_14_days', 'time_to_conversion', 'conversion_value',\n",
      "       'PreConversion', 'page_views_in_first_day_norm',\n",
      "       'page_views_in_first_7_days_norm', 'page_views_in_first_14_days_norm',\n",
      "       'time_delta_day', 'time_delta_week', 'time_delta_2weeks', 'Conversion'],\n",
      "      dtype='object')\n"
     ]
    },
    {
     "data": {
      "text/html": [
       "<div>\n",
       "<style scoped>\n",
       "    .dataframe tbody tr th:only-of-type {\n",
       "        vertical-align: middle;\n",
       "    }\n",
       "\n",
       "    .dataframe tbody tr th {\n",
       "        vertical-align: top;\n",
       "    }\n",
       "\n",
       "    .dataframe thead th {\n",
       "        text-align: right;\n",
       "    }\n",
       "</style>\n",
       "<table border=\"1\" class=\"dataframe\">\n",
       "  <thead>\n",
       "    <tr style=\"text-align: right;\">\n",
       "      <th></th>\n",
       "      <th>count</th>\n",
       "      <th>mean</th>\n",
       "      <th>std</th>\n",
       "      <th>min</th>\n",
       "      <th>25%</th>\n",
       "      <th>50%</th>\n",
       "      <th>75%</th>\n",
       "      <th>max</th>\n",
       "    </tr>\n",
       "  </thead>\n",
       "  <tbody>\n",
       "    <tr>\n",
       "      <th>time_to_first_matter</th>\n",
       "      <td>379.0</td>\n",
       "      <td>81816.358839</td>\n",
       "      <td>198153.789905</td>\n",
       "      <td>77.000000</td>\n",
       "      <td>348.500000</td>\n",
       "      <td>1126.000000</td>\n",
       "      <td>29915.000000</td>\n",
       "      <td>1.130506e+06</td>\n",
       "    </tr>\n",
       "    <tr>\n",
       "      <th>time_to_first_time_entry</th>\n",
       "      <td>313.0</td>\n",
       "      <td>87472.575080</td>\n",
       "      <td>195930.815550</td>\n",
       "      <td>15.000000</td>\n",
       "      <td>480.000000</td>\n",
       "      <td>1900.000000</td>\n",
       "      <td>66567.000000</td>\n",
       "      <td>1.207301e+06</td>\n",
       "    </tr>\n",
       "    <tr>\n",
       "      <th>time_to_first_bill</th>\n",
       "      <td>164.0</td>\n",
       "      <td>164917.195122</td>\n",
       "      <td>268088.212590</td>\n",
       "      <td>217.000000</td>\n",
       "      <td>1193.500000</td>\n",
       "      <td>6383.000000</td>\n",
       "      <td>235260.250000</td>\n",
       "      <td>1.204219e+06</td>\n",
       "    </tr>\n",
       "    <tr>\n",
       "      <th>time_to_second_user</th>\n",
       "      <td>84.0</td>\n",
       "      <td>226122.214286</td>\n",
       "      <td>330303.572491</td>\n",
       "      <td>101.000000</td>\n",
       "      <td>815.250000</td>\n",
       "      <td>21457.500000</td>\n",
       "      <td>349205.250000</td>\n",
       "      <td>1.198713e+06</td>\n",
       "    </tr>\n",
       "    <tr>\n",
       "      <th>page_views_in_first_hour</th>\n",
       "      <td>914.0</td>\n",
       "      <td>19.936543</td>\n",
       "      <td>23.257648</td>\n",
       "      <td>1.000000</td>\n",
       "      <td>5.000000</td>\n",
       "      <td>12.000000</td>\n",
       "      <td>25.000000</td>\n",
       "      <td>1.490000e+02</td>\n",
       "    </tr>\n",
       "    <tr>\n",
       "      <th>page_views_in_first_day</th>\n",
       "      <td>914.0</td>\n",
       "      <td>36.717724</td>\n",
       "      <td>67.840603</td>\n",
       "      <td>1.000000</td>\n",
       "      <td>7.000000</td>\n",
       "      <td>15.000000</td>\n",
       "      <td>36.000000</td>\n",
       "      <td>6.730000e+02</td>\n",
       "    </tr>\n",
       "    <tr>\n",
       "      <th>page_views_in_first_7_days</th>\n",
       "      <td>914.0</td>\n",
       "      <td>66.492341</td>\n",
       "      <td>147.253008</td>\n",
       "      <td>1.000000</td>\n",
       "      <td>8.000000</td>\n",
       "      <td>19.000000</td>\n",
       "      <td>55.750000</td>\n",
       "      <td>1.813000e+03</td>\n",
       "    </tr>\n",
       "    <tr>\n",
       "      <th>page_views_in_first_14_days</th>\n",
       "      <td>914.0</td>\n",
       "      <td>85.698031</td>\n",
       "      <td>196.621187</td>\n",
       "      <td>1.000000</td>\n",
       "      <td>8.000000</td>\n",
       "      <td>20.000000</td>\n",
       "      <td>66.000000</td>\n",
       "      <td>2.117000e+03</td>\n",
       "    </tr>\n",
       "    <tr>\n",
       "      <th>time_to_conversion</th>\n",
       "      <td>113.0</td>\n",
       "      <td>523400.911504</td>\n",
       "      <td>334743.882297</td>\n",
       "      <td>528.000000</td>\n",
       "      <td>254333.000000</td>\n",
       "      <td>544740.000000</td>\n",
       "      <td>683947.000000</td>\n",
       "      <td>1.204386e+06</td>\n",
       "    </tr>\n",
       "    <tr>\n",
       "      <th>conversion_value</th>\n",
       "      <td>113.0</td>\n",
       "      <td>101.687965</td>\n",
       "      <td>108.349874</td>\n",
       "      <td>29.590000</td>\n",
       "      <td>49.000000</td>\n",
       "      <td>62.100000</td>\n",
       "      <td>117.300000</td>\n",
       "      <td>8.280000e+02</td>\n",
       "    </tr>\n",
       "    <tr>\n",
       "      <th>page_views_in_first_day_norm</th>\n",
       "      <td>914.0</td>\n",
       "      <td>5.245389</td>\n",
       "      <td>9.691515</td>\n",
       "      <td>0.142857</td>\n",
       "      <td>1.000000</td>\n",
       "      <td>2.142857</td>\n",
       "      <td>5.142857</td>\n",
       "      <td>9.614286e+01</td>\n",
       "    </tr>\n",
       "    <tr>\n",
       "      <th>page_views_in_first_7_days_norm</th>\n",
       "      <td>914.0</td>\n",
       "      <td>0.395788</td>\n",
       "      <td>0.876506</td>\n",
       "      <td>0.005952</td>\n",
       "      <td>0.047619</td>\n",
       "      <td>0.113095</td>\n",
       "      <td>0.331845</td>\n",
       "      <td>1.079167e+01</td>\n",
       "    </tr>\n",
       "    <tr>\n",
       "      <th>page_views_in_first_14_days_norm</th>\n",
       "      <td>914.0</td>\n",
       "      <td>0.197894</td>\n",
       "      <td>0.438253</td>\n",
       "      <td>0.002976</td>\n",
       "      <td>0.023810</td>\n",
       "      <td>0.056548</td>\n",
       "      <td>0.165923</td>\n",
       "      <td>5.395833e+00</td>\n",
       "    </tr>\n",
       "    <tr>\n",
       "      <th>time_delta_day</th>\n",
       "      <td>914.0</td>\n",
       "      <td>14.691153</td>\n",
       "      <td>17.964632</td>\n",
       "      <td>-34.000000</td>\n",
       "      <td>3.857143</td>\n",
       "      <td>9.428571</td>\n",
       "      <td>19.428571</td>\n",
       "      <td>1.215714e+02</td>\n",
       "    </tr>\n",
       "    <tr>\n",
       "      <th>time_delta_week</th>\n",
       "      <td>914.0</td>\n",
       "      <td>4.849601</td>\n",
       "      <td>9.002769</td>\n",
       "      <td>-2.380952</td>\n",
       "      <td>0.821429</td>\n",
       "      <td>2.047619</td>\n",
       "      <td>4.818452</td>\n",
       "      <td>9.011905e+01</td>\n",
       "    </tr>\n",
       "    <tr>\n",
       "      <th>time_delta_2weeks</th>\n",
       "      <td>914.0</td>\n",
       "      <td>0.197894</td>\n",
       "      <td>0.438253</td>\n",
       "      <td>0.002976</td>\n",
       "      <td>0.023810</td>\n",
       "      <td>0.056548</td>\n",
       "      <td>0.165923</td>\n",
       "      <td>5.395833e+00</td>\n",
       "    </tr>\n",
       "  </tbody>\n",
       "</table>\n",
       "</div>"
      ],
      "text/plain": [
       "                                  count           mean            std  \\\n",
       "time_to_first_matter              379.0   81816.358839  198153.789905   \n",
       "time_to_first_time_entry          313.0   87472.575080  195930.815550   \n",
       "time_to_first_bill                164.0  164917.195122  268088.212590   \n",
       "time_to_second_user                84.0  226122.214286  330303.572491   \n",
       "page_views_in_first_hour          914.0      19.936543      23.257648   \n",
       "page_views_in_first_day           914.0      36.717724      67.840603   \n",
       "page_views_in_first_7_days        914.0      66.492341     147.253008   \n",
       "page_views_in_first_14_days       914.0      85.698031     196.621187   \n",
       "time_to_conversion                113.0  523400.911504  334743.882297   \n",
       "conversion_value                  113.0     101.687965     108.349874   \n",
       "page_views_in_first_day_norm      914.0       5.245389       9.691515   \n",
       "page_views_in_first_7_days_norm   914.0       0.395788       0.876506   \n",
       "page_views_in_first_14_days_norm  914.0       0.197894       0.438253   \n",
       "time_delta_day                    914.0      14.691153      17.964632   \n",
       "time_delta_week                   914.0       4.849601       9.002769   \n",
       "time_delta_2weeks                 914.0       0.197894       0.438253   \n",
       "\n",
       "                                         min            25%            50%  \\\n",
       "time_to_first_matter               77.000000     348.500000    1126.000000   \n",
       "time_to_first_time_entry           15.000000     480.000000    1900.000000   \n",
       "time_to_first_bill                217.000000    1193.500000    6383.000000   \n",
       "time_to_second_user               101.000000     815.250000   21457.500000   \n",
       "page_views_in_first_hour            1.000000       5.000000      12.000000   \n",
       "page_views_in_first_day             1.000000       7.000000      15.000000   \n",
       "page_views_in_first_7_days          1.000000       8.000000      19.000000   \n",
       "page_views_in_first_14_days         1.000000       8.000000      20.000000   \n",
       "time_to_conversion                528.000000  254333.000000  544740.000000   \n",
       "conversion_value                   29.590000      49.000000      62.100000   \n",
       "page_views_in_first_day_norm        0.142857       1.000000       2.142857   \n",
       "page_views_in_first_7_days_norm     0.005952       0.047619       0.113095   \n",
       "page_views_in_first_14_days_norm    0.002976       0.023810       0.056548   \n",
       "time_delta_day                    -34.000000       3.857143       9.428571   \n",
       "time_delta_week                    -2.380952       0.821429       2.047619   \n",
       "time_delta_2weeks                   0.002976       0.023810       0.056548   \n",
       "\n",
       "                                            75%           max  \n",
       "time_to_first_matter               29915.000000  1.130506e+06  \n",
       "time_to_first_time_entry           66567.000000  1.207301e+06  \n",
       "time_to_first_bill                235260.250000  1.204219e+06  \n",
       "time_to_second_user               349205.250000  1.198713e+06  \n",
       "page_views_in_first_hour              25.000000  1.490000e+02  \n",
       "page_views_in_first_day               36.000000  6.730000e+02  \n",
       "page_views_in_first_7_days            55.750000  1.813000e+03  \n",
       "page_views_in_first_14_days           66.000000  2.117000e+03  \n",
       "time_to_conversion                683947.000000  1.204386e+06  \n",
       "conversion_value                     117.300000  8.280000e+02  \n",
       "page_views_in_first_day_norm           5.142857  9.614286e+01  \n",
       "page_views_in_first_7_days_norm        0.331845  1.079167e+01  \n",
       "page_views_in_first_14_days_norm       0.165923  5.395833e+00  \n",
       "time_delta_day                        19.428571  1.215714e+02  \n",
       "time_delta_week                        4.818452  9.011905e+01  \n",
       "time_delta_2weeks                      0.165923  5.395833e+00  "
      ]
     },
     "execution_count": 10,
     "metadata": {},
     "output_type": "execute_result"
    }
   ],
   "source": [
    "print(df.columns)\n",
    "df.describe().T\n"
   ]
  },
  {
   "cell_type": "markdown",
   "metadata": {},
   "source": [
    "### Export to CSV\n",
    "\n",
    "Drop unused columns and PreConversion rows.\n"
   ]
  },
  {
   "cell_type": "code",
   "execution_count": 11,
   "metadata": {},
   "outputs": [
    {
     "name": "stdout",
     "output_type": "stream",
     "text": [
      "<class 'pandas.core.frame.DataFrame'>\n",
      "Int64Index: 914 entries, 745 to 270\n",
      "Data columns (total 15 columns):\n",
      "time_to_first_matter                379 non-null float64\n",
      "time_to_first_time_entry            313 non-null float64\n",
      "time_to_first_bill                  164 non-null float64\n",
      "time_to_second_user                 84 non-null float64\n",
      "page_views_in_first_hour            914 non-null float64\n",
      "page_views_in_first_day             914 non-null float64\n",
      "page_views_in_first_7_days          914 non-null float64\n",
      "page_views_in_first_14_days         914 non-null float64\n",
      "page_views_in_first_day_norm        914 non-null float64\n",
      "page_views_in_first_7_days_norm     914 non-null float64\n",
      "page_views_in_first_14_days_norm    914 non-null float64\n",
      "time_delta_day                      914 non-null float64\n",
      "time_delta_week                     914 non-null float64\n",
      "time_delta_2weeks                   914 non-null float64\n",
      "Conversion                          914 non-null object\n",
      "dtypes: float64(14), object(1)\n",
      "memory usage: 114.2+ KB\n"
     ]
    }
   ],
   "source": [
    "if TRAIN: \n",
    "    df.drop(['time_to_conversion', 'conversion_value', 'PreConversion'], axis=1, inplace=True)\n",
    "    df.to_csv(\"train_clean.tab\", sep='\\t', index=False)\n",
    "else:\n",
    "    df.to_csv(\"test_clean.tab\", sep='\\t', index=False)\n",
    "df.info()"
   ]
  },
  {
   "cell_type": "code",
   "execution_count": null,
   "metadata": {},
   "outputs": [],
   "source": []
  },
  {
   "cell_type": "code",
   "execution_count": null,
   "metadata": {},
   "outputs": [],
   "source": [
    "\n"
   ]
  },
  {
   "cell_type": "code",
   "execution_count": null,
   "metadata": {},
   "outputs": [],
   "source": []
  },
  {
   "cell_type": "markdown",
   "metadata": {},
   "source": [
    "### TODO:\n",
    "1. QC on matter is superset to time entry, time entry is superset to first bill\n",
    "2. Confirm both converstion inputs have values, ratio is 1:1"
   ]
  }
 ],
 "metadata": {
  "kernelspec": {
   "display_name": "Sandbox",
   "language": "python",
   "name": "sandbox"
  },
  "language_info": {
   "codemirror_mode": {
    "name": "ipython",
    "version": 3
   },
   "file_extension": ".py",
   "mimetype": "text/x-python",
   "name": "python",
   "nbconvert_exporter": "python",
   "pygments_lexer": "ipython3",
   "version": "3.6.9"
  }
 },
 "nbformat": 4,
 "nbformat_minor": 2
}
